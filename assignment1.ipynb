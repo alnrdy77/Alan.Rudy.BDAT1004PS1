{
 "cells": [
  {
   "cell_type": "code",
   "execution_count": null,
   "id": "2db186f9",
   "metadata": {},
   "outputs": [],
   "source": [
    "#Question No 1\n",
    "What data type is each of the following?\n",
    "1) 5\n",
    "2) 5.0\n",
    "3) 5 > 1\n",
    "4) '5'\n",
    "5) 5 * 2\n",
    "6) '5' * 2\n",
    "7) '5' + '2'\n",
    "8) 5 / 2\n",
    "9) 5 % 2\n",
    "10) {5, 2, 1}\n",
    "11) 5 == 3\n",
    "12) Pi (the number)\n",
    "\n",
    "\n",
    "Answers\n",
    "\n",
    "1. Integer\n",
    "2. Float\n",
    "3. Boolean\n",
    "4. String\n",
    "5. Integer\n",
    "6. String\n",
    "7 String\n",
    "8. Float\n",
    "9. Integer\n",
    "10. Set\n",
    "11. Boolean\n",
    "12. Float"
   ]
  },
  {
   "cell_type": "code",
   "execution_count": null,
   "id": "ae69e186",
   "metadata": {},
   "outputs": [],
   "source": [
    "#Question 2\n",
    "#Write (and evaluate) C# expressions that answer these questions:\n",
    "#a. How many letters are there in 'Supercalifragilisticexpialidocious'?\n",
    "#b. Does 'Supercalifragilisticexpialidocious' contain 'ice' as a substring? \n",
    "#c. Which of the following words is the longest:\n",
    "#Supercalifragilisticexpialidocious, Honorificabilitudinitatibus, or\n",
    "#Bababadalgharaghtakamminarronnkonn?\n",
    "#d. Which composer comes first in the dictionary: 'Berlioz', 'Borodin', 'Brian',\n",
    "#'Bartok', 'Bellini', 'Buxtehude', 'Bernstein'. Which one comes last?\n",
    "\n",
    "#Answer a\n",
    "\n",
    "#using System;\n",
    "\n",
    "#class Program\n",
    "#{\n",
    "   # static void Main()\n",
    "  #  //a=the given word\n",
    "   # {\n",
    "      #  string a = \"Supercalifragilisticexpialidocious\";\n",
    "      #  int numberOfLetters = a.Length;\n",
    "\n",
    "       # Console.WriteLine($\"Number of letters in '{a}': {numberOfLetters}\"\n",
    "        \n",
    "        #Answer a = 34\n",
    "        \n",
    "        #Answer b \n",
    "        \n",
    "      #  string a = \"Supercalifragilisticexpialidocious\";\n",
    "#Console.WriteLine(a.Contains(\"ice\"));\n",
    "\n",
    "#Answer b = True\n",
    "\n",
    "#Answer c \n",
    "\n",
    "# static void Main()\n",
    "# {\n",
    "    # string a1 = \"Supercalifragilisticexpialidocious\";\n",
    "     #string a2 = \"Honorificabilitudinitatibus\";\n",
    "    # string a3 = \"Bababadalgharaghtakamminarronnkonn\";\n",
    "\n",
    "    # string longestWord = GetLongestWord(a1, a2, a3);\n",
    "\n",
    "    # Console.WriteLine($\"The longest word is: {longestWord}\");\n",
    "# }\n",
    "\n",
    "# static string GetLongestWord(params string[] words)\n",
    "# {\n",
    "    # string longestWord = \"\";\n",
    "     #foreach (string word in words)\n",
    "     #{\n",
    "       #  if (word.Length > longestWord.Length)\n",
    "        # {\n",
    "           #  longestWord = word;\n",
    "        # }\n",
    "   #  }\n",
    "   #  return longestWord;\n",
    "# }\n",
    "\n",
    "#Answer c = Supercalifragilisticexpialidocious\n",
    "\n",
    "\n",
    "#Answer d\n",
    "\n",
    "# class Program\n",
    "#{\n",
    " #static void Main()\n",
    "  #    //where x=composorname\n",
    " #{\n",
    "# string[] composorname = { \"Berlioz\", \"Borodin\", \"Brian\", \"Bartok\", \"Bellini\", \"Buxtehude\", \"Bernstein\" };\n",
    "\n",
    "# Array.Sort(composorname); // Sort the array alphabetically\n",
    "\n",
    "# string firstComposer = composorname[0];\n",
    " #string lastComposer = composorname[composorname.Length - 1];\n",
    "\n",
    " #Console.WriteLine($\"First composer in the dictionary: {firstComposer}\");\n",
    "# Console.WriteLine($\"Last composer in the dictionary: {lastComposer}\");\n",
    "# }\n",
    "#}\n",
    "\n",
    "#Answer d\n",
    "#First composer: Bartok\n",
    "#Last composer : Buxtehude\n",
    "\n",
    "\n",
    "\n",
    "\n",
    "        \n"
   ]
  },
  {
   "cell_type": "code",
   "execution_count": null,
   "id": "162a3a90",
   "metadata": {},
   "outputs": [],
   "source": [
    "#Question 3\n",
    "#Implement function triangleArea(a,b,c) that takes as input the lengths of the 3\n",
    "#sides of a triangle and returns the area of the triangle. By Heron's formula, the area\n",
    "#of a triangle with side lengths a, b, and c is\n",
    "#s(s - a)(s -b)(s -c)\n",
    "#, where\n",
    "#s = (a+b+c)/2.\n",
    "#>>> triangleArea(2,2,2)\n",
    "#1.7320508075688772\n",
    "\n",
    "#Answer\n",
    "\n"
   ]
  },
  {
   "cell_type": "code",
   "execution_count": null,
   "id": "c301e6db",
   "metadata": {},
   "outputs": [],
   "source": [
    "Question 4 C#\n",
    "Write a program in C# Sharp to separate odd and even integers in separate arrays.\n",
    "Go to the editor\n",
    "Test Data :\n",
    "Input the number of elements to be stored in the array :5\n",
    "Input 5 elements in the array :\n",
    "element - 0 : 25\n",
    "element - 1 : 47\n",
    "element - 2 : 42\n",
    "element - 3 : 56\n",
    "element - 4 : 32\n",
    "Expected Output:\n",
    "The Even elements are:\n",
    "42 56 32\n",
    "The Odd elements are :\n",
    "25 47\n",
    "\n",
    "#Answer\n",
    "\n",
    "#using System;\n",
    "\n",
    "#class Program\n",
    "#{\n",
    "    #static void Main()\n",
    "  #  {\n",
    "       # Console.Write(\"Input the number of elements to be stored in the array: \");\n",
    "       # int x = Convert.ToInt32(Console.ReadLine());\n",
    "\n",
    "        #int[] array = new int[x];\n",
    "\n",
    "        #Console.WriteLine($\"Input {x} elements in the array:\");\n",
    "\n",
    "        #for (int i = 0; i < x; i++)\n",
    "        #{\n",
    "            #Console.Write($\"element - {i} : \");\n",
    "            #array[i] = Convert.ToInt32(Console.ReadLine());\n",
    "        #}\n",
    "\n",
    "       # // Separate odd and even elements\n",
    "        #int[] evenArray = new int[x];\n",
    "        #int[] oddArray = new int[x];\n",
    "        #int evenCount = 0, oddCount = 0;\n",
    "\n",
    "        #foreach (int num in array)\n",
    "        #{\n",
    "           # if (num % 2 == 0)\n",
    "            #{\n",
    "             #   evenArray[evenCount] = num;\n",
    "              #  evenCount++;\n",
    "           # }\n",
    "           # else\n",
    "            #{\n",
    "               # oddArray[oddCount] = num;\n",
    "               # oddCount++;\n",
    "           # }\n",
    "       # }\n",
    "\n",
    "       # // Display the results\n",
    "       # Console.WriteLine(\"\\nThe Even elements are:\");\n",
    "       # DisplayArray(evenArray, evenCount);\n",
    "\n",
    "       # Console.WriteLine(\"\\nThe Odd elements are:\");\n",
    "       # DisplayArray(oddArray, oddCount);\n",
    "    #}\n",
    "\n",
    "   # static void DisplayArray(int[] arr, int count)\n",
    "   # {\n",
    "      #  for (int i = 0; i < count; i++)\n",
    "       # {\n",
    "          #  Console.Write(arr[i] + \" \");\n",
    "       # }\n",
    "      #  Console.WriteLine();\n"
   ]
  },
  {
   "cell_type": "code",
   "execution_count": 6,
   "id": "ab95ccf1",
   "metadata": {},
   "outputs": [
    {
     "name": "stdout",
     "output_type": "stream",
     "text": [
      "appyhay\n",
      "enterway\n"
     ]
    }
   ],
   "source": [
    "#Question 6\n",
    "def pig(word):\n",
    "    vowels = \"aeiou\"\n",
    "\n",
    "    # Convert the word to lowercase \n",
    "    word = word.lower()\n",
    "\n",
    "    # Check if the word starts with a vowel\n",
    "    if word[0] in vowels:\n",
    "        return word + 'way'\n",
    "    else:\n",
    "        # Move the first consonant to the end and append 'ay'\n",
    "        return word[1:] + word[0] + 'ay'\n",
    "\n",
    "# Test cases\n",
    "result1 = pig('happy')\n",
    "print(result1)  # Output: 'appyhay'\n",
    "\n",
    "result2 = pig('Enter')\n",
    "print(result2)  # Output: 'enterway'"
   ]
  },
  {
   "cell_type": "code",
   "execution_count": null,
   "id": "9f342a25",
   "metadata": {},
   "outputs": [],
   "source": [
    "#Question 5\n"
   ]
  },
  {
   "cell_type": "code",
   "execution_count": 26,
   "id": "4a54c019",
   "metadata": {},
   "outputs": [
    {
     "name": "stdout",
     "output_type": "stream",
     "text": [
      "There are  15 Patients of Blood Type A\n",
      "There are  1 Patients of Blood Type B\n",
      "There are  13 Patients of Blood Type AB\n",
      "There are  15 Patients of Blood Type O\n"
     ]
    }
   ],
   "source": [
    "#Question 7\n",
    "def bloodtypecount(filename):\n",
    "    infile = open(filename)\n",
    "    content=infile.read()\n",
    "    infile.close()\n",
    "    wordList = content.split(' ')\n",
    "    A_count=wordList.count('A')\n",
    "    B_count=wordList.count('B')\n",
    "    AB_count=wordList.count('AB')\n",
    "    O_count=wordList.count('O')\n",
    "    print('There are ',A_count,'Patients of Blood Type A')\n",
    "    print('There are ',B_count,'Patients of Blood Type B')\n",
    "    print('There are ',AB_count,'Patients of Blood Type AB')\n",
    "    print('There are ',O_count,'Patients of Blood Type O')\n",
    "\n",
    "\n",
    "bloodtypecount('bloodtype1.txt')"
   ]
  },
  {
   "cell_type": "code",
   "execution_count": null,
   "id": "dfba185a",
   "metadata": {},
   "outputs": [],
   "source": [
    "#Question 8"
   ]
  },
  {
   "cell_type": "code",
   "execution_count": 14,
   "id": "eb259951",
   "metadata": {},
   "outputs": [
    {
     "ename": "TypeError",
     "evalue": "unsupported operand type(s) for +: 'int' and 'str'",
     "output_type": "error",
     "traceback": [
      "\u001b[1;31m---------------------------------------------------------------------------\u001b[0m",
      "\u001b[1;31mTypeError\u001b[0m                                 Traceback (most recent call last)",
      "Cell \u001b[1;32mIn[14], line 25\u001b[0m\n\u001b[0;32m      1\u001b[0m \u001b[38;5;66;03m#Answer 9\u001b[39;00m\n\u001b[0;32m      2\u001b[0m \n\u001b[0;32m      3\u001b[0m \u001b[38;5;66;03m#Each of the following will cause an exception (an error). Identify what type of\u001b[39;00m\n\u001b[1;32m   (...)\u001b[0m\n\u001b[0;32m     22\u001b[0m \n\u001b[0;32m     23\u001b[0m \u001b[38;5;66;03m#1. TypeError\u001b[39;00m\n\u001b[1;32m---> 25\u001b[0m \u001b[38;5;241m6\u001b[39m\u001b[38;5;241m+\u001b[39m\u001b[38;5;124m'\u001b[39m\u001b[38;5;124ma\u001b[39m\u001b[38;5;124m'\u001b[39m\n",
      "\u001b[1;31mTypeError\u001b[0m: unsupported operand type(s) for +: 'int' and 'str'"
     ]
    }
   ],
   "source": [
    "#Answer 9 a\n",
    "\n",
    "#Each of the following will cause an exception (an error). Identify what type of\n",
    "#exception each will cause.\n",
    "#a.Trying to add incompatible variables, as in\n",
    "#adding 6 + ‘a’\n",
    "\n",
    "#b.Referring to the 12th item of a list that has only 10\n",
    "#items\n",
    "\n",
    "#c.Using a value that is out of range for a function’s\n",
    "#input, such as calling math.sqrt(-1.0)\n",
    "\n",
    "#d.Using an undeclared variable, such as print(x)\n",
    "#when x has not been defined\n",
    "\n",
    "#e.Trying to open a file that does not exist, such as\n",
    "#mistyping the file name or looking in the wrong\n",
    "#directory\n",
    "\n",
    "#Answers\n",
    "\n",
    "#1. TypeError\n",
    "\n",
    "6+'a'\n",
    "\n",
    "\n",
    "\n"
   ]
  },
  {
   "cell_type": "code",
   "execution_count": 15,
   "id": "1155ee1c",
   "metadata": {},
   "outputs": [
    {
     "ename": "IndexError",
     "evalue": "list index out of range",
     "output_type": "error",
     "traceback": [
      "\u001b[1;31m---------------------------------------------------------------------------\u001b[0m",
      "\u001b[1;31mIndexError\u001b[0m                                Traceback (most recent call last)",
      "Cell \u001b[1;32mIn[15], line 4\u001b[0m\n\u001b[0;32m      1\u001b[0m \u001b[38;5;66;03m#Question b\u001b[39;00m\n\u001b[0;32m      2\u001b[0m \u001b[38;5;66;03m#IndexError\u001b[39;00m\n\u001b[0;32m      3\u001b[0m \u001b[38;5;28mlist\u001b[39m \u001b[38;5;241m=\u001b[39m[\u001b[38;5;241m1\u001b[39m,\u001b[38;5;241m3\u001b[39m,\u001b[38;5;241m5\u001b[39m,\u001b[38;5;241m7\u001b[39m,\u001b[38;5;241m9\u001b[39m]\n\u001b[1;32m----> 4\u001b[0m \u001b[38;5;28mprint\u001b[39m(\u001b[38;5;28mlist\u001b[39m[\u001b[38;5;241m12\u001b[39m])\n",
      "\u001b[1;31mIndexError\u001b[0m: list index out of range"
     ]
    }
   ],
   "source": [
    "#Question 9 b\n",
    "#IndexError\n",
    "list =[1,3,5,7,9]\n",
    "print(list[12])"
   ]
  },
  {
   "cell_type": "code",
   "execution_count": 17,
   "id": "08167b8f",
   "metadata": {},
   "outputs": [
    {
     "ename": "ValueError",
     "evalue": "math domain error",
     "output_type": "error",
     "traceback": [
      "\u001b[1;31m---------------------------------------------------------------------------\u001b[0m",
      "\u001b[1;31mValueError\u001b[0m                                Traceback (most recent call last)",
      "Cell \u001b[1;32mIn[17], line 4\u001b[0m\n\u001b[0;32m      1\u001b[0m \u001b[38;5;66;03m#Question 9 c\u001b[39;00m\n\u001b[0;32m      2\u001b[0m \u001b[38;5;66;03m#ValueError\u001b[39;00m\n\u001b[0;32m      3\u001b[0m \u001b[38;5;28;01mimport\u001b[39;00m \u001b[38;5;21;01mmath\u001b[39;00m\n\u001b[1;32m----> 4\u001b[0m math\u001b[38;5;241m.\u001b[39msqrt(\u001b[38;5;241m-\u001b[39m\u001b[38;5;241m1.0\u001b[39m)\n",
      "\u001b[1;31mValueError\u001b[0m: math domain error"
     ]
    }
   ],
   "source": [
    "#Question 9 c\n",
    "#ValueError\n",
    "import math\n",
    "math.sqrt(-1.0)"
   ]
  },
  {
   "cell_type": "code",
   "execution_count": 18,
   "id": "a6eb93da",
   "metadata": {},
   "outputs": [
    {
     "ename": "NameError",
     "evalue": "name 'a' is not defined",
     "output_type": "error",
     "traceback": [
      "\u001b[1;31m---------------------------------------------------------------------------\u001b[0m",
      "\u001b[1;31mNameError\u001b[0m                                 Traceback (most recent call last)",
      "Cell \u001b[1;32mIn[18], line 3\u001b[0m\n\u001b[0;32m      1\u001b[0m \u001b[38;5;66;03m#Question 9 d\u001b[39;00m\n\u001b[0;32m      2\u001b[0m \u001b[38;5;167;01mNameError\u001b[39;00m\n\u001b[1;32m----> 3\u001b[0m \u001b[38;5;28mprint\u001b[39m(a)\n",
      "\u001b[1;31mNameError\u001b[0m: name 'a' is not defined"
     ]
    }
   ],
   "source": [
    "#Question 9 d\n",
    "NameError\n",
    "print(a)"
   ]
  },
  {
   "cell_type": "code",
   "execution_count": 19,
   "id": "8a5ee9ca",
   "metadata": {},
   "outputs": [
    {
     "ename": "FileNotFoundError",
     "evalue": "[Errno 2] No such file or directory: 'data.txt'",
     "output_type": "error",
     "traceback": [
      "\u001b[1;31m---------------------------------------------------------------------------\u001b[0m",
      "\u001b[1;31mFileNotFoundError\u001b[0m                         Traceback (most recent call last)",
      "Cell \u001b[1;32mIn[19], line 3\u001b[0m\n\u001b[0;32m      1\u001b[0m \u001b[38;5;66;03m#Question 9 e\u001b[39;00m\n\u001b[0;32m      2\u001b[0m \u001b[38;5;66;03m#FileNotFoundError\u001b[39;00m\n\u001b[1;32m----> 3\u001b[0m file\u001b[38;5;241m=\u001b[39m \u001b[38;5;28mopen\u001b[39m(\u001b[38;5;124m'\u001b[39m\u001b[38;5;124mdata.txt\u001b[39m\u001b[38;5;124m'\u001b[39m)\n",
      "File \u001b[1;32m~\\anaconda3\\Lib\\site-packages\\IPython\\core\\interactiveshell.py:286\u001b[0m, in \u001b[0;36m_modified_open\u001b[1;34m(file, *args, **kwargs)\u001b[0m\n\u001b[0;32m    279\u001b[0m \u001b[38;5;28;01mif\u001b[39;00m file \u001b[38;5;129;01min\u001b[39;00m {\u001b[38;5;241m0\u001b[39m, \u001b[38;5;241m1\u001b[39m, \u001b[38;5;241m2\u001b[39m}:\n\u001b[0;32m    280\u001b[0m     \u001b[38;5;28;01mraise\u001b[39;00m \u001b[38;5;167;01mValueError\u001b[39;00m(\n\u001b[0;32m    281\u001b[0m         \u001b[38;5;124mf\u001b[39m\u001b[38;5;124m\"\u001b[39m\u001b[38;5;124mIPython won\u001b[39m\u001b[38;5;124m'\u001b[39m\u001b[38;5;124mt let you open fd=\u001b[39m\u001b[38;5;132;01m{\u001b[39;00mfile\u001b[38;5;132;01m}\u001b[39;00m\u001b[38;5;124m by default \u001b[39m\u001b[38;5;124m\"\u001b[39m\n\u001b[0;32m    282\u001b[0m         \u001b[38;5;124m\"\u001b[39m\u001b[38;5;124mas it is likely to crash IPython. If you know what you are doing, \u001b[39m\u001b[38;5;124m\"\u001b[39m\n\u001b[0;32m    283\u001b[0m         \u001b[38;5;124m\"\u001b[39m\u001b[38;5;124myou can use builtins\u001b[39m\u001b[38;5;124m'\u001b[39m\u001b[38;5;124m open.\u001b[39m\u001b[38;5;124m\"\u001b[39m\n\u001b[0;32m    284\u001b[0m     )\n\u001b[1;32m--> 286\u001b[0m \u001b[38;5;28;01mreturn\u001b[39;00m io_open(file, \u001b[38;5;241m*\u001b[39margs, \u001b[38;5;241m*\u001b[39m\u001b[38;5;241m*\u001b[39mkwargs)\n",
      "\u001b[1;31mFileNotFoundError\u001b[0m: [Errno 2] No such file or directory: 'data.txt'"
     ]
    }
   ],
   "source": [
    "#Question 9 e\n",
    "#FileNotFoundError\n",
    "file= open('data.txt')\n"
   ]
  },
  {
   "cell_type": "code",
   "execution_count": 22,
   "id": "da0ce88d",
   "metadata": {},
   "outputs": [
    {
     "name": "stdout",
     "output_type": "stream",
     "text": [
      "[1, 1, 1, 3, 5, 1, 1, 2, 1, 0, 1, 0, 1, 2, 4, 0, 1, 2, 0, 3, 1, 0, 1, 1, 0, 0]\n",
      "[1, 0, 0, 0, 1, 0, 0, 0, 0, 0, 0, 1, 0, 0, 0, 2, 0, 0, 0, 0, 0, 0, 0, 0, 0, 0]\n"
     ]
    }
   ],
   "source": [
    "#Question 10\n",
    "def frequencies(text):\n",
    "    letters = 'abcdefghijklmnopqrstuvwxyz'\n",
    "\n",
    "    # Initialize a list to store the frequency of each character\n",
    "    frequency_list = [0] * 26\n",
    "\n",
    "    # Convert the text to lowercase for case-insensitive comparison\n",
    "    text = text.lower()\n",
    "\n",
    "\n",
    "    for char in text:\n",
    "        if char in letters:\n",
    "            # Increase the corresponding index in the frequency list\n",
    "            index = letters.index(char)\n",
    "            frequency_list[index] += 1\n",
    "\n",
    "    return frequency_list\n",
    "\n",
    "# Test cases\n",
    "result1 = frequencies('The quick red fox got bored and went home.')\n",
    "print(result1)\n",
    "# Output: [1, 1, 1, 3, 5, 1, 1, 2, 1, 0, 1, 0, 1, 2, 4, 0, 1, 2, 0, 2, 1, 0, 1, 1, 0, 0]\n",
    "\n",
    "result2 = frequencies('apple')\n",
    "print(result2)\n",
    "# Output: [1, 0, 0, 0, 1, 0, 0, 0, 0, 0, 0, 1, 0, 0, 0, 2, 0, 0, 0, 0, 0, 0, 0, 0, 0, 0]\n"
   ]
  },
  {
   "cell_type": "code",
   "execution_count": 25,
   "id": "3a933600",
   "metadata": {},
   "outputs": [],
   "source": []
  },
  {
   "cell_type": "code",
   "execution_count": null,
   "id": "201d9e7a",
   "metadata": {},
   "outputs": [],
   "source": []
  },
  {
   "cell_type": "code",
   "execution_count": null,
   "id": "ee403091",
   "metadata": {},
   "outputs": [],
   "source": []
  }
 ],
 "metadata": {
  "kernelspec": {
   "display_name": "Python 3 (ipykernel)",
   "language": "python",
   "name": "python3"
  },
  "language_info": {
   "codemirror_mode": {
    "name": "ipython",
    "version": 3
   },
   "file_extension": ".py",
   "mimetype": "text/x-python",
   "name": "python",
   "nbconvert_exporter": "python",
   "pygments_lexer": "ipython3",
   "version": "3.11.5"
  }
 },
 "nbformat": 4,
 "nbformat_minor": 5
}
